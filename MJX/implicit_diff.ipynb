{
 "cells": [
  {
   "metadata": {},
   "cell_type": "markdown",
   "source": "## Setting up Solvers",
   "id": "f6baa91bd050e6cf"
  },
  {
   "cell_type": "code",
   "id": "initial_id",
   "metadata": {
    "collapsed": true,
    "ExecuteTime": {
     "end_time": "2025-02-09T15:30:17.324830Z",
     "start_time": "2025-02-09T15:30:17.320746Z"
    }
   },
   "source": [
    "import jax\n",
    "from jax import numpy as jnp\n",
    "from jax import random"
   ],
   "outputs": [],
   "execution_count": 9
  },
  {
   "metadata": {
    "ExecuteTime": {
     "end_time": "2025-02-09T15:28:39.923076Z",
     "start_time": "2025-02-09T15:28:39.919711Z"
    }
   },
   "cell_type": "code",
   "source": [
    "def fwd_solver(f, z_init):\n",
    "  z_prev, z = z_init, f(z_init)\n",
    "  while jnp.linalg.norm(z_prev - z) > 1e-5:\n",
    "    z_prev, z = z, f(z)\n",
    "  return z"
   ],
   "id": "e6776a3849de96f0",
   "outputs": [],
   "execution_count": 3
  },
  {
   "metadata": {
    "ExecuteTime": {
     "end_time": "2025-02-09T15:28:40.453795Z",
     "start_time": "2025-02-09T15:28:40.449458Z"
    }
   },
   "cell_type": "code",
   "source": [
    "def newton_solver(f, z_init):\n",
    "  f_root = lambda z: f(z) - z\n",
    "  g = lambda z: z - jnp.linalg.solve(jax.jacobian(f_root)(z), f_root(z))\n",
    "  return fwd_solver(g, z_init)"
   ],
   "id": "56ce994e9f94e31c",
   "outputs": [],
   "execution_count": 4
  },
  {
   "metadata": {
    "ExecuteTime": {
     "end_time": "2025-02-09T15:28:55.355786Z",
     "start_time": "2025-02-09T15:28:55.346965Z"
    }
   },
   "cell_type": "code",
   "source": [
    "def anderson_solver(f, z_init, m=5, lam=1e-4, max_iter=50, tol=1e-5, beta=1.0):\n",
    "  x0 = z_init\n",
    "  x1 = f(x0)\n",
    "  x2 = f(x1)\n",
    "  X = jnp.concatenate([jnp.stack([x0, x1]), jnp.zeros((m - 2, *jnp.shape(x0)))])\n",
    "  F = jnp.concatenate([jnp.stack([x1, x2]), jnp.zeros((m - 2, *jnp.shape(x0)))])\n",
    "\n",
    "  res = []\n",
    "  for k in range(2, max_iter):\n",
    "    n = min(k, m)\n",
    "    G = F[:n] - X[:n]\n",
    "    GTG = jnp.tensordot(G, G, [list(range(1, G.ndim))] * 2)\n",
    "    H = jnp.block([[jnp.zeros((1, 1)), jnp.ones((1, n))],\n",
    "                   [ jnp.ones((n, 1)), GTG]]) + lam * jnp.eye(n + 1)\n",
    "    alpha = jnp.linalg.solve(H, jnp.zeros(n+1).at[0].set(1))[1:]\n",
    "\n",
    "    xk = beta * jnp.dot(alpha, F[:n]) + (1-beta) * jnp.dot(alpha, X[:n])\n",
    "    X = X.at[k % m].set(xk)\n",
    "    F = F.at[k % m].set(f(xk))\n",
    "\n",
    "    res = jnp.linalg.norm(F[k % m] - X[k % m]) / (1e-5 + jnp.linalg.norm(F[k % m]))\n",
    "    if res < tol:\n",
    "      break\n",
    "  return xk"
   ],
   "id": "36d3bf9025152317",
   "outputs": [],
   "execution_count": 6
  },
  {
   "metadata": {
    "ExecuteTime": {
     "end_time": "2025-02-09T15:29:45.891803Z",
     "start_time": "2025-02-09T15:29:45.889120Z"
    }
   },
   "cell_type": "code",
   "source": [
    "def fixed_point_layer(solver, f, params, x):\n",
    "    \"\"\"\n",
    "    Finds the fixed point of a function f using the solver function.\n",
    "    \"\"\"\n",
    "    \n",
    "    z_star = solver(lambda z: f(params, x, z), z_init=jnp.zeros_like(x))\n",
    "    return z_star"
   ],
   "id": "9fcfcbe55e4fd127",
   "outputs": [],
   "execution_count": 7
  },
  {
   "metadata": {
    "ExecuteTime": {
     "end_time": "2025-02-09T15:29:59.353271Z",
     "start_time": "2025-02-09T15:29:59.349328Z"
    }
   },
   "cell_type": "code",
   "source": "f = lambda W, x, z: jnp.tanh(jnp.dot(W, z) + x)",
   "id": "119d343214229f9f",
   "outputs": [],
   "execution_count": 8
  },
  {
   "metadata": {
    "ExecuteTime": {
     "end_time": "2025-02-09T15:30:21.279556Z",
     "start_time": "2025-02-09T15:30:20.793921Z"
    }
   },
   "cell_type": "code",
   "source": [
    "ndim = 10\n",
    "W = random.normal(random.PRNGKey(0), (ndim, ndim)) / jnp.sqrt(ndim)\n",
    "x = random.normal(random.PRNGKey(1), (ndim,))"
   ],
   "id": "20ddc6adb74a589c",
   "outputs": [],
   "execution_count": 10
  },
  {
   "metadata": {
    "ExecuteTime": {
     "end_time": "2025-02-09T15:30:29.547519Z",
     "start_time": "2025-02-09T15:30:29.365825Z"
    }
   },
   "cell_type": "code",
   "source": [
    "z_star = fixed_point_layer(fwd_solver, f, W, x)\n",
    "print(z_star)"
   ],
   "id": "52851e4b0ba033a4",
   "outputs": [
    {
     "name": "stdout",
     "output_type": "stream",
     "text": [
      "[ 0.00649598 -0.7015958  -0.984715   -0.04196562 -0.61522174 -0.4818382\n",
      "  0.5783123   0.9556705  -0.08373147  0.8447805 ]\n"
     ]
    }
   ],
   "execution_count": 11
  },
  {
   "metadata": {
    "ExecuteTime": {
     "end_time": "2025-02-09T15:30:38.629782Z",
     "start_time": "2025-02-09T15:30:38.053036Z"
    }
   },
   "cell_type": "code",
   "source": [
    "z_star = fixed_point_layer(newton_solver, f, W, x)\n",
    "print(z_star)"
   ],
   "id": "4442f1abaaf42738",
   "outputs": [
    {
     "name": "stdout",
     "output_type": "stream",
     "text": [
      "[ 0.00649406 -0.701595   -0.98471504 -0.04196507 -0.6152211  -0.4818385\n",
      "  0.5783124   0.9556705  -0.08372926  0.84477997]\n"
     ]
    }
   ],
   "execution_count": 12
  },
  {
   "metadata": {
    "ExecuteTime": {
     "end_time": "2025-02-09T15:30:43.223547Z",
     "start_time": "2025-02-09T15:30:41.530077Z"
    }
   },
   "cell_type": "code",
   "source": [
    "z_star = fixed_point_layer(anderson_solver, f, W, x)\n",
    "print(z_star)"
   ],
   "id": "51cc6acf0e7d4eb8",
   "outputs": [
    {
     "name": "stdout",
     "output_type": "stream",
     "text": [
      "[ 0.0064984  -0.70159334 -0.9847146  -0.04194266 -0.6152191  -0.4818331\n",
      "  0.5783229   0.9556697  -0.08373421  0.844775  ]\n"
     ]
    }
   ],
   "execution_count": 13
  },
  {
   "metadata": {},
   "cell_type": "markdown",
   "source": "## Naive AutoDiff",
   "id": "e086bf6958bad089"
  },
  {
   "metadata": {
    "ExecuteTime": {
     "end_time": "2025-02-09T15:31:19.120468Z",
     "start_time": "2025-02-09T15:31:18.833325Z"
    }
   },
   "cell_type": "code",
   "source": [
    "g = jax.grad(lambda W: fixed_point_layer(fwd_solver, f, W, x).sum())(W)\n",
    "print(g[0])"
   ],
   "id": "943012bebcdd696f",
   "outputs": [
    {
     "name": "stdout",
     "output_type": "stream",
     "text": [
      "[ 0.0075667  -0.8125902  -1.1404794  -0.04861286 -0.71255237 -0.5580556\n",
      "  0.66978824  1.1068414  -0.09702272  0.97842246]\n"
     ]
    }
   ],
   "execution_count": 14
  },
  {
   "metadata": {
    "ExecuteTime": {
     "end_time": "2025-02-09T15:31:25.963948Z",
     "start_time": "2025-02-09T15:31:25.298639Z"
    }
   },
   "cell_type": "code",
   "source": [
    "g = jax.grad(lambda W: fixed_point_layer(newton_solver, f, W, x).sum())(W)\n",
    "print(g[0])"
   ],
   "id": "45dbd7968aae1ec",
   "outputs": [
    {
     "name": "stdout",
     "output_type": "stream",
     "text": [
      "[ 0.0075213  -0.8125743  -1.1404787  -0.04860317 -0.7125376  -0.55805635\n",
      "  0.6697907   1.1068398  -0.09697367  0.97840846]\n"
     ]
    }
   ],
   "execution_count": 15
  },
  {
   "metadata": {},
   "cell_type": "code",
   "outputs": [],
   "execution_count": null,
   "source": "",
   "id": "c302b69f528c30b9"
  },
  {
   "metadata": {},
   "cell_type": "markdown",
   "source": "## Towards Implicit Differentiation",
   "id": "91f86edeea92a878"
  },
  {
   "metadata": {
    "ExecuteTime": {
     "end_time": "2025-02-09T15:35:08.732889Z",
     "start_time": "2025-02-09T15:35:08.728673Z"
    }
   },
   "cell_type": "code",
   "source": [
    "def f(x):\n",
    "  return jnp.sin(x) * x ** 2"
   ],
   "id": "20003ed33d12d087",
   "outputs": [],
   "execution_count": 16
  },
  {
   "metadata": {
    "ExecuteTime": {
     "end_time": "2025-02-09T15:36:32.372403Z",
     "start_time": "2025-02-09T15:36:32.367194Z"
    }
   },
   "cell_type": "code",
   "source": [
    "x = 2.\n",
    "y = f(x)\n",
    "print(y)"
   ],
   "id": "35d1a0ac1f0e24d7",
   "outputs": [
    {
     "name": "stdout",
     "output_type": "stream",
     "text": [
      "3.6371896\n"
     ]
    }
   ],
   "execution_count": 19
  },
  {
   "metadata": {
    "ExecuteTime": {
     "end_time": "2025-02-09T15:36:39.951796Z",
     "start_time": "2025-02-09T15:36:39.822943Z"
    }
   },
   "cell_type": "code",
   "source": [
    "w = 1.\n",
    "y, f_vjp = jax.vjp(f, x)\n",
    "lmbda, = f_vjp(w)\n",
    "print(y)\n",
    "print(lmbda) "
   ],
   "id": "7f18995d451c001f",
   "outputs": [
    {
     "name": "stdout",
     "output_type": "stream",
     "text": [
      "3.6371896\n",
      "1.9726022\n"
     ]
    }
   ],
   "execution_count": 20
  },
  {
   "metadata": {
    "ExecuteTime": {
     "end_time": "2025-02-09T16:22:08.686222Z",
     "start_time": "2025-02-09T16:22:08.681340Z"
    }
   },
   "cell_type": "code",
   "source": [
    "def example(x, y):\n",
    "  return jnp.sin(x), jnp.cos(y)\n",
    "\n",
    "primals, example_vjp = jax.vjp(example, 0.5, 1.0)\n",
    "print(primals)\n",
    "xbar, ybar = example_vjp((-0.7, 0.3))\n",
    "print(xbar)\n",
    "print(ybar)"
   ],
   "id": "df67234f0b4b942e",
   "outputs": [
    {
     "name": "stdout",
     "output_type": "stream",
     "text": [
      "(Array(0.47942555, dtype=float32, weak_type=True), Array(0.5403023, dtype=float32, weak_type=True))\n",
      "-0.61430776\n",
      "-0.2524413\n"
     ]
    }
   ],
   "execution_count": 29
  },
  {
   "metadata": {
    "ExecuteTime": {
     "end_time": "2025-02-09T15:40:45.299925Z",
     "start_time": "2025-02-09T15:40:45.295547Z"
    }
   },
   "cell_type": "code",
   "source": [
    "from functools import partial\n",
    "\n",
    "@partial(jax.custom_vjp, nondiff_argnums=(0, 1))\n",
    "def fixed_point_layer(solver, f, params, x):\n",
    "  z_star = solver(lambda z: f(params, x, z), z_init=jnp.zeros_like(x))\n",
    "  return z_star\n",
    "\n",
    "def fixed_point_layer_fwd(solver, f, params, x):\n",
    "  z_star = fixed_point_layer(solver, f, params, x)\n",
    "  return z_star, (params, x, z_star)\n",
    "\n",
    "def fixed_point_layer_bwd(solver, f, res, z_star_bar):\n",
    "  params, x, z_star = res\n",
    "  _, vjp_a = jax.vjp(lambda params, x: f(params, x, z_star), params, x)\n",
    "  _, vjp_z = jax.vjp(lambda z: f(params, x, z), z_star)\n",
    "  return vjp_a(solver(lambda u: vjp_z(u)[0] + z_star_bar,\n",
    "                      z_init=jnp.zeros_like(z_star)))\n",
    "\n",
    "fixed_point_layer.defvjp(fixed_point_layer_fwd, fixed_point_layer_bwd)"
   ],
   "id": "dd66b42b3cda6cd2",
   "outputs": [],
   "execution_count": 21
  },
  {
   "metadata": {
    "ExecuteTime": {
     "end_time": "2025-02-09T15:41:09.883622Z",
     "start_time": "2025-02-09T15:41:09.879724Z"
    }
   },
   "cell_type": "code",
   "source": [
    "ndim = 10\n",
    "W = random.normal(random.PRNGKey(0), (ndim, ndim)) / jnp.sqrt(ndim)\n",
    "f = lambda W, x, z: jnp.tanh(jnp.dot(W, z) + x)\n",
    "x = random.normal(random.PRNGKey(1), (ndim,))"
   ],
   "id": "7b19abe765e55b98",
   "outputs": [],
   "execution_count": 23
  },
  {
   "metadata": {
    "ExecuteTime": {
     "end_time": "2025-02-09T15:41:16.967710Z",
     "start_time": "2025-02-09T15:41:16.948146Z"
    }
   },
   "cell_type": "code",
   "source": [
    "g = jax.grad(lambda W: fixed_point_layer(fwd_solver, f, W, x).sum())(W)\n",
    "print(g[0])"
   ],
   "id": "3c5efa03f32627d3",
   "outputs": [
    {
     "name": "stdout",
     "output_type": "stream",
     "text": [
      "[ 0.0075235  -0.812573   -1.1404755  -0.04860367 -0.7125365  -0.55805457\n",
      "  0.6697887   1.1068368  -0.09697597  0.9784065 ]\n"
     ]
    }
   ],
   "execution_count": 25
  },
  {
   "metadata": {},
   "cell_type": "code",
   "outputs": [],
   "execution_count": null,
   "source": "",
   "id": "23d17d78eef0b91c"
  }
 ],
 "metadata": {
  "kernelspec": {
   "display_name": "Python 3",
   "language": "python",
   "name": "python3"
  },
  "language_info": {
   "codemirror_mode": {
    "name": "ipython",
    "version": 2
   },
   "file_extension": ".py",
   "mimetype": "text/x-python",
   "name": "python",
   "nbconvert_exporter": "python",
   "pygments_lexer": "ipython2",
   "version": "2.7.6"
  }
 },
 "nbformat": 4,
 "nbformat_minor": 5
}
